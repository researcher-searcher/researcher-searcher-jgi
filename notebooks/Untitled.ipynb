{
 "cells": [
  {
   "cell_type": "code",
   "execution_count": 3,
   "id": "prescribed-wallace",
   "metadata": {},
   "outputs": [],
   "source": [
    "import scispacy\n",
    "import spacy\n",
    "import pandas as pd\n",
    "import os\n",
    "from simple_parsing import ArgumentParser\n",
    "from loguru import logger\n",
    "from scripts.general import mark_as_complete, load_spacy_model"
   ]
  },
  {
   "cell_type": "code",
   "execution_count": 5,
   "id": "demanding-feedback",
   "metadata": {},
   "outputs": [
    {
     "name": "stderr",
     "output_type": "stream",
     "text": [
      "2021-03-17 09:41:13.054 | INFO     | scripts.general:load_spacy_model:18 - Loading spacy model en_core_web_lg\n",
      "2021-03-17 09:41:16.712 | INFO     | scripts.general:load_spacy_model:29 - Done...\n"
     ]
    }
   ],
   "source": [
    "nlp = load_spacy_model()"
   ]
  },
  {
   "cell_type": "code",
   "execution_count": null,
   "id": "given-sending",
   "metadata": {},
   "outputs": [
    {
     "name": "stdout",
     "output_type": "stream",
     "text": [
      "                                                 url  \\\n",
      "0  https://research-information.bris.ac.uk/en/pub...   \n",
      "1  https://research-information.bris.ac.uk/en/pub...   \n",
      "2  https://research-information.bris.ac.uk/en/pub...   \n",
      "3  https://research-information.bris.ac.uk/en/pub...   \n",
      "4  https://research-information.bris.ac.uk/en/pub...   \n",
      "\n",
      "                                               title  \\\n",
      "0  School choice and the city: Geographies of all...   \n",
      "1       Federalism and education: the case of the UK   \n",
      "2  School choice and social class: urban geograph...   \n",
      "3  School choice in London and Paris - a comparis...   \n",
      "4  Towards an interactive sociological rational c...   \n",
      "\n",
      "                                            abstract    year  \n",
      "0  Urban research has increasingly acknowledged t...  2019.0  \n",
      "1                                                NaN  2018.0  \n",
      "2                                                NaN  2015.0  \n",
      "3  Education is one major public service in which...  2015.0  \n",
      "4  Understanding how different groups of users ma...  2014.0  \n"
     ]
    }
   ],
   "source": [
    "df = pd.read_csv('results/research_data.tsv.gz',sep='\\t')\n",
    "print(df.head())\n",
    "text = df['title']\n",
    "docs = list(nlp.pipe(text))\n",
    "for d in docs[0:10]:\n",
    "    print(d.sents)"
   ]
  },
  {
   "cell_type": "code",
   "execution_count": null,
   "id": "ecological-transaction",
   "metadata": {},
   "outputs": [],
   "source": []
  }
 ],
 "metadata": {
  "kernelspec": {
   "display_name": "Python 3",
   "language": "python",
   "name": "python3"
  },
  "language_info": {
   "codemirror_mode": {
    "name": "ipython",
    "version": 3
   },
   "file_extension": ".py",
   "mimetype": "text/x-python",
   "name": "python",
   "nbconvert_exporter": "python",
   "pygments_lexer": "ipython3",
   "version": "3.7.9"
  }
 },
 "nbformat": 4,
 "nbformat_minor": 5
}
